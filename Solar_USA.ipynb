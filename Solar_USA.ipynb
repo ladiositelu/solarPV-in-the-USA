{
 "cells": [
  {
   "cell_type": "markdown",
   "metadata": {},
   "source": [
    "# Solar Photovoltaic installation analysis\n",
    "I work on solar PV installation data in this ipython notebook. A lot of the time spent on this notebook is towards cleaning and prepping the data for analysis. Some of the noteable problems include\n",
    "1. Columns that should be floats containing strings\n",
    "2. Data spillage: This basically means that for certain rows, data from one column spills over to the next column, causing a domino effect with the rest of the columns leading to incorrect values.\n",
    "\n",
    "## Some notes about the data"
   ]
  },
  {
   "cell_type": "markdown",
   "metadata": {},
   "source": [
    "The Open PV Project is a collaborative effort between government, industry, and the public that continues to compile a database of available public data for photovoltaic (PV) installation data for the United States. Data for the project are voluntarily contributed from a variety of sources including solar incentive programs, utilities, installers, and the general public."
   ]
  },
  {
   "cell_type": "markdown",
   "metadata": {},
   "source": [
    "The Open PV Project is collecting data from any willing contributor of available information. The core dataset is provided by Lawrence Berkeley National Laboratory (LBL), which annually produces the Tracking the Sun report, now in its ninth year. LBL collects data from most state run incentive programs, large utilities, and other organizations. Data are also provided directly by the PV community, including installers, businesses, and consumers. The installations represented in the LBL dataset comprise about 78% of the more than 1 million installations in the Open PV database, with the rest coming from the community. It is our hope that the database will continue to grow through contributions from the PV community.\n",
    "\n"
   ]
  },
  {
   "cell_type": "markdown",
   "metadata": {},
   "source": [
    "https://openpv.nrel.gov/search"
   ]
  },
  {
   "cell_type": "code",
   "execution_count": 1,
   "metadata": {
    "collapsed": false
   },
   "outputs": [
    {
     "name": "stderr",
     "output_type": "stream",
     "text": [
      "//anaconda/lib/python2.7/site-packages/pandas/computation/__init__.py:19: UserWarning: The installed version of numexpr 2.4.4 is not supported in pandas and will be not be used\n",
      "\n",
      "  UserWarning)\n"
     ]
    }
   ],
   "source": [
    "import pandas as pd \n",
    "import numpy as np\n",
    "import datetime\n",
    "\n",
    "import matplotlib as mpl\n",
    "import matplotlib.pyplot as plt\n",
    "import matplotlib.animation as animation\n",
    "import seaborn as sns\n",
    "%matplotlib inline\n",
    "plt.style.use('fivethirtyeight')\n",
    "mpl.rcParams['figure.figsize'] = (12.0, 6.0)\n",
    "from mpl_toolkits.basemap import Basemap\n"
   ]
  },
  {
   "cell_type": "code",
   "execution_count": 2,
   "metadata": {
    "collapsed": false
   },
   "outputs": [],
   "source": [
    "data=pd.read_csv('/Users/oladipoositelu/Desktop/data/solar_US.csv',low_memory=False)"
   ]
  },
  {
   "cell_type": "code",
   "execution_count": 332,
   "metadata": {
    "collapsed": false
   },
   "outputs": [],
   "source": [
    "#map = Basemap(llcrnrlon=-119,llcrnrlat=22,urcrnrlon=-64,urcrnrlat=49,projection='lcc',lat_1=32,lat_2=45,lon_0=-95)"
   ]
  },
  {
   "cell_type": "code",
   "execution_count": 333,
   "metadata": {
    "collapsed": false
   },
   "outputs": [],
   "source": [
    "#map.drawcoastlines()\n",
    "#map.fillcontinents(color='coral',lake_color='aqua')\n",
    "#map.drawstates()"
   ]
  },
  {
   "cell_type": "markdown",
   "metadata": {},
   "source": [
    "# Lets look at the data"
   ]
  },
  {
   "cell_type": "code",
   "execution_count": 3,
   "metadata": {
    "collapsed": false
   },
   "outputs": [
    {
     "data": {
      "text/html": [
       "<div>\n",
       "<table border=\"1\" class=\"dataframe\">\n",
       "  <thead>\n",
       "    <tr style=\"text-align: right;\">\n",
       "      <th></th>\n",
       "      <th>state</th>\n",
       "      <th>date_installed</th>\n",
       "      <th>incentive_prog_names</th>\n",
       "      <th>type</th>\n",
       "      <th>size_kw</th>\n",
       "      <th>appraised</th>\n",
       "      <th>zipcode</th>\n",
       "      <th>install_type</th>\n",
       "      <th>installer</th>\n",
       "      <th>cost_per_watt</th>\n",
       "      <th>...</th>\n",
       "      <th>cust_county</th>\n",
       "      <th>tracking</th>\n",
       "      <th>inv_model_clean</th>\n",
       "      <th>mod_cost_real</th>\n",
       "      <th>inv_cost_real</th>\n",
       "      <th>bos_powerclerk_real</th>\n",
       "      <th>permitting_real</th>\n",
       "      <th>3rdparty</th>\n",
       "      <th>Filters=maxdate=1472688000&amp;maxsize=30600&amp;mindate=946684800&amp;minsize=10</th>\n",
       "      <th>Unnamed: 82</th>\n",
       "    </tr>\n",
       "  </thead>\n",
       "  <tbody>\n",
       "    <tr>\n",
       "      <th>0</th>\n",
       "      <td>AZ</td>\n",
       "      <td>01/01/2000</td>\n",
       "      <td>UniSource Energy Services</td>\n",
       "      <td>uir</td>\n",
       "      <td>11.772</td>\n",
       "      <td>NaN</td>\n",
       "      <td>86406</td>\n",
       "      <td>residential</td>\n",
       "      <td>Epcon Solar</td>\n",
       "      <td>4.5999830105</td>\n",
       "      <td>...</td>\n",
       "      <td>NaN</td>\n",
       "      <td>NaN</td>\n",
       "      <td>NaN</td>\n",
       "      <td>NaN</td>\n",
       "      <td>NaN</td>\n",
       "      <td>NaN</td>\n",
       "      <td>NaN</td>\n",
       "      <td>NaN</td>\n",
       "      <td>NaN</td>\n",
       "      <td>NaN</td>\n",
       "    </tr>\n",
       "    <tr>\n",
       "      <th>1</th>\n",
       "      <td>NV</td>\n",
       "      <td>01/01/2000</td>\n",
       "      <td>NaN</td>\n",
       "      <td>uir</td>\n",
       "      <td>11.84</td>\n",
       "      <td>NaN</td>\n",
       "      <td>89010</td>\n",
       "      <td>residential</td>\n",
       "      <td>NaN</td>\n",
       "      <td>21.11</td>\n",
       "      <td>...</td>\n",
       "      <td>NaN</td>\n",
       "      <td>NaN</td>\n",
       "      <td>NaN</td>\n",
       "      <td>NaN</td>\n",
       "      <td>NaN</td>\n",
       "      <td>NaN</td>\n",
       "      <td>NaN</td>\n",
       "      <td>NaN</td>\n",
       "      <td>NaN</td>\n",
       "      <td>NaN</td>\n",
       "    </tr>\n",
       "    <tr>\n",
       "      <th>2</th>\n",
       "      <td>TN</td>\n",
       "      <td>01/01/2000</td>\n",
       "      <td>NaN</td>\n",
       "      <td>uir</td>\n",
       "      <td>15</td>\n",
       "      <td>NaN</td>\n",
       "      <td>37923</td>\n",
       "      <td>NaN</td>\n",
       "      <td>NaN</td>\n",
       "      <td>8</td>\n",
       "      <td>...</td>\n",
       "      <td>NaN</td>\n",
       "      <td>NaN</td>\n",
       "      <td>NaN</td>\n",
       "      <td>NaN</td>\n",
       "      <td>NaN</td>\n",
       "      <td>NaN</td>\n",
       "      <td>NaN</td>\n",
       "      <td>NaN</td>\n",
       "      <td>NaN</td>\n",
       "      <td>NaN</td>\n",
       "    </tr>\n",
       "  </tbody>\n",
       "</table>\n",
       "<p>3 rows × 83 columns</p>\n",
       "</div>"
      ],
      "text/plain": [
       "  state date_installed       incentive_prog_names type size_kw appraised  \\\n",
       "0    AZ     01/01/2000  UniSource Energy Services  uir  11.772       NaN   \n",
       "1    NV     01/01/2000                        NaN  uir   11.84       NaN   \n",
       "2    TN     01/01/2000                        NaN  uir      15       NaN   \n",
       "\n",
       "  zipcode install_type    installer cost_per_watt     ...     cust_county  \\\n",
       "0   86406  residential  Epcon Solar  4.5999830105     ...             NaN   \n",
       "1   89010  residential          NaN         21.11     ...             NaN   \n",
       "2   37923          NaN          NaN             8     ...             NaN   \n",
       "\n",
       "  tracking inv_model_clean mod_cost_real inv_cost_real bos_powerclerk_real  \\\n",
       "0      NaN             NaN           NaN           NaN                 NaN   \n",
       "1      NaN             NaN           NaN           NaN                 NaN   \n",
       "2      NaN             NaN           NaN           NaN                 NaN   \n",
       "\n",
       "  permitting_real 3rdparty  \\\n",
       "0             NaN      NaN   \n",
       "1             NaN      NaN   \n",
       "2             NaN      NaN   \n",
       "\n",
       "  Filters=maxdate=1472688000&maxsize=30600&mindate=946684800&minsize=10  \\\n",
       "0                                                NaN                      \n",
       "1                                                NaN                      \n",
       "2                                                NaN                      \n",
       "\n",
       "  Unnamed: 82  \n",
       "0         NaN  \n",
       "1         NaN  \n",
       "2         NaN  \n",
       "\n",
       "[3 rows x 83 columns]"
      ]
     },
     "execution_count": 3,
     "metadata": {},
     "output_type": "execute_result"
    }
   ],
   "source": [
    "data.head(3)"
   ]
  },
  {
   "cell_type": "code",
   "execution_count": 4,
   "metadata": {
    "collapsed": false
   },
   "outputs": [
    {
     "data": {
      "text/plain": [
       "(65499, 83)"
      ]
     },
     "execution_count": 4,
     "metadata": {},
     "output_type": "execute_result"
    }
   ],
   "source": [
    "data.shape"
   ]
  },
  {
   "cell_type": "markdown",
   "metadata": {},
   "source": [
    "There are 83 columns in this dataset. Before we can do any analytical work, we need to go through all the columns and make sure they are cleaned and ready to be analyzed. We can do this by slicing the columns."
   ]
  },
  {
   "cell_type": "code",
   "execution_count": 5,
   "metadata": {
    "collapsed": false
   },
   "outputs": [
    {
     "data": {
      "text/html": [
       "<div>\n",
       "<table border=\"1\" class=\"dataframe\">\n",
       "  <thead>\n",
       "    <tr style=\"text-align: right;\">\n",
       "      <th></th>\n",
       "      <th>state</th>\n",
       "      <th>date_installed</th>\n",
       "      <th>incentive_prog_names</th>\n",
       "      <th>type</th>\n",
       "      <th>size_kw</th>\n",
       "      <th>appraised</th>\n",
       "      <th>zipcode</th>\n",
       "    </tr>\n",
       "  </thead>\n",
       "  <tbody>\n",
       "    <tr>\n",
       "      <th>0</th>\n",
       "      <td>AZ</td>\n",
       "      <td>01/01/2000</td>\n",
       "      <td>UniSource Energy Services</td>\n",
       "      <td>uir</td>\n",
       "      <td>11.772</td>\n",
       "      <td>NaN</td>\n",
       "      <td>86406</td>\n",
       "    </tr>\n",
       "    <tr>\n",
       "      <th>1</th>\n",
       "      <td>NV</td>\n",
       "      <td>01/01/2000</td>\n",
       "      <td>NaN</td>\n",
       "      <td>uir</td>\n",
       "      <td>11.84</td>\n",
       "      <td>NaN</td>\n",
       "      <td>89010</td>\n",
       "    </tr>\n",
       "    <tr>\n",
       "      <th>2</th>\n",
       "      <td>TN</td>\n",
       "      <td>01/01/2000</td>\n",
       "      <td>NaN</td>\n",
       "      <td>uir</td>\n",
       "      <td>15</td>\n",
       "      <td>NaN</td>\n",
       "      <td>37923</td>\n",
       "    </tr>\n",
       "    <tr>\n",
       "      <th>3</th>\n",
       "      <td>TN</td>\n",
       "      <td>01/01/2000</td>\n",
       "      <td>NaN</td>\n",
       "      <td>uir</td>\n",
       "      <td>30</td>\n",
       "      <td>NaN</td>\n",
       "      <td>37201</td>\n",
       "    </tr>\n",
       "    <tr>\n",
       "      <th>4</th>\n",
       "      <td>TN</td>\n",
       "      <td>01/03/2000</td>\n",
       "      <td>NaN</td>\n",
       "      <td>uir</td>\n",
       "      <td>10</td>\n",
       "      <td>NaN</td>\n",
       "      <td>37821</td>\n",
       "    </tr>\n",
       "  </tbody>\n",
       "</table>\n",
       "</div>"
      ],
      "text/plain": [
       "  state date_installed       incentive_prog_names type size_kw appraised  \\\n",
       "0    AZ     01/01/2000  UniSource Energy Services  uir  11.772       NaN   \n",
       "1    NV     01/01/2000                        NaN  uir   11.84       NaN   \n",
       "2    TN     01/01/2000                        NaN  uir      15       NaN   \n",
       "3    TN     01/01/2000                        NaN  uir      30       NaN   \n",
       "4    TN     01/03/2000                        NaN  uir      10       NaN   \n",
       "\n",
       "  zipcode  \n",
       "0   86406  \n",
       "1   89010  \n",
       "2   37923  \n",
       "3   37201  \n",
       "4   37821  "
      ]
     },
     "execution_count": 5,
     "metadata": {},
     "output_type": "execute_result"
    }
   ],
   "source": [
    "data.ix[:4,:7]"
   ]
  },
  {
   "cell_type": "markdown",
   "metadata": {},
   "source": [
    "## What states have the most installations? the least?"
   ]
  },
  {
   "cell_type": "code",
   "execution_count": 6,
   "metadata": {
    "collapsed": false
   },
   "outputs": [
    {
     "data": {
      "text/plain": [
       "<matplotlib.text.Text at 0x10d91a350>"
      ]
     },
     "execution_count": 6,
     "metadata": {},
     "output_type": "execute_result"
    },
    {
     "data": {
      "image/png": "[encoded data removed]",
      "text/plain": [
       "<matplotlib.figure.Figure at 0x10f7ebcd0>"
      ]
     },
     "metadata": {},
     "output_type": "display_data"
    }
   ],
   "source": [
    "data['state'].value_counts().head(5).plot(kind='barh')\n",
    "plt.title('Top 5 states by number of installations')\n",
    "plt.ylabel('State')\n",
    "plt.xlabel('Number of installations')"
   ]
  },
  {
   "cell_type": "code",
   "execution_count": 9,
   "metadata": {
    "collapsed": false
   },
   "outputs": [
    {
     "data": {
      "text/plain": [
       "<matplotlib.text.Text at 0x10f7c4850>"
      ]
     },
     "execution_count": 9,
     "metadata": {},
     "output_type": "execute_result"
    },
    {
     "data": {
      "image/png": "[encoded data removed]",
      "text/plain": [
       "<matplotlib.figure.Figure at 0x10e6bf050>"
      ]
     },
     "metadata": {},
     "output_type": "display_data"
    }
   ],
   "source": [
    "data['state'].value_counts().tail(5).plot(kind='barh')\n",
    "plt.title('Lowest number of PV installations by state')\n",
    "plt.ylabel('State')\n",
    "plt.xlabel('Number of installations')"
   ]
  },
  {
   "cell_type": "markdown",
   "metadata": {},
   "source": [
    "California has considerably more installations than other states. Arkansas has the least"
   ]
  },
  {
   "cell_type": "markdown",
   "metadata": {},
   "source": [
    "### Convert date variable to datetime"
   ]
  },
  {
   "cell_type": "code",
   "execution_count": 10,
   "metadata": {
    "collapsed": true
   },
   "outputs": [],
   "source": [
    "data['date_installed']=pd.to_datetime(data['date_installed'])"
   ]
  },
  {
   "cell_type": "markdown",
   "metadata": {},
   "source": [
    "### Let's observe the daily installations and yearly installations"
   ]
  },
  {
   "cell_type": "code",
   "execution_count": 11,
   "metadata": {
    "collapsed": false
   },
   "outputs": [
    {
     "data": {
      "text/plain": [
       "<matplotlib.text.Text at 0x10a9b9e90>"
      ]
     },
     "execution_count": 11,
     "metadata": {},
     "output_type": "execute_result"
    },
    {
     "data": {
      "image/png": "[encoded data removed]",
      "text/plain": [
       "<matplotlib.figure.Figure at 0x10e820490>"
      ]
     },
     "metadata": {},
     "output_type": "display_data"
    }
   ],
   "source": [
    "data['date_installed'].value_counts().plot()\n",
    "plt.title('Daily installation of solar PV')\n",
    "plt.xlabel('year')\n",
    "plt.ylabel('Number of installations')"
   ]
  },
  {
   "cell_type": "code",
   "execution_count": 12,
   "metadata": {
    "collapsed": false
   },
   "outputs": [
    {
     "data": {
      "text/plain": [
       "<matplotlib.text.Text at 0x10eb6e890>"
      ]
     },
     "execution_count": 12,
     "metadata": {},
     "output_type": "execute_result"
    },
    {
     "data": {
      "image/png": "[encoded data removed]",
      "text/plain": [
       "<matplotlib.figure.Figure at 0x10e93d5d0>"
      ]
     },
     "metadata": {},
     "output_type": "display_data"
    }
   ],
   "source": [
    "sns.countplot(data['date_installed'].dt.year)\n",
    "plt.title('Installation per year')\n",
    "plt.xlabel('Year')\n",
    "plt.ylabel('Number of installations')"
   ]
  },
  {
   "cell_type": "markdown",
   "metadata": {},
   "source": [
    "We can see the rising trend in yearly installations. 2013 is low because the data runs up till January 2013"
   ]
  },
  {
   "cell_type": "markdown",
   "metadata": {},
   "source": [
    "### More data cleaning"
   ]
  },
  {
   "cell_type": "markdown",
   "metadata": {},
   "source": [
    "If a column is meant to be a text or string column, I generally prefer to make the entire column lowercase."
   ]
  },
  {
   "cell_type": "code",
   "execution_count": 13,
   "metadata": {
    "collapsed": true
   },
   "outputs": [],
   "source": [
    "data['incentive_prog_names']=data['incentive_prog_names'].str.lower()\n",
    "data['type']=data['type'].str.lower()"
   ]
  },
  {
   "cell_type": "markdown",
   "metadata": {},
   "source": [
    "Columns that should be numbers but are encoded as strings need to be converted. Most popular formats have commas that need to be removed and may also have actual words that can not be easily converted. \n",
    "First thing I want to do is write a function that checks for words in the columns. Then decide how to proceed"
   ]
  },
  {
   "cell_type": "code",
   "execution_count": 14,
   "metadata": {
    "collapsed": false
   },
   "outputs": [],
   "source": [
    "def isnot_float(data,text):\n",
    "    '''Return the unique non-numeric items in a column'''\n",
    "    dd=[]\n",
    "    for row in data[text]:\n",
    "        if type(row) is str:\n",
    "            try:\n",
    "                float(row.replace(',',''))\n",
    "            except ValueError:\n",
    "                dd.append(row)\n",
    "        else:\n",
    "            float(row)\n",
    "    return set(dd) # return unique values"
   ]
  },
  {
   "cell_type": "code",
   "execution_count": 15,
   "metadata": {
    "collapsed": false
   },
   "outputs": [],
   "source": [
    "def str_float(data,text):\n",
    "    '''Change a string column to a float'''\n",
    "    dd=[]\n",
    "    for row in data[text]:\n",
    "        if type(row) is str:\n",
    "            try:\n",
    "                dd.append(float(row.replace(',','')))\n",
    "            except ValueError:\n",
    "                dd.append(np.nan)\n",
    "        else:\n",
    "            dd.append(row)\n",
    "    return dd\n",
    "            "
   ]
  },
  {
   "cell_type": "markdown",
   "metadata": {},
   "source": [
    "### Start with size_kw"
   ]
  },
  {
   "cell_type": "code",
   "execution_count": 16,
   "metadata": {
    "collapsed": false
   },
   "outputs": [
    {
     "data": {
      "text/plain": [
       "{'uir'}"
      ]
     },
     "execution_count": 16,
     "metadata": {},
     "output_type": "execute_result"
    }
   ],
   "source": [
    "isnot_float(data,'size_kw')"
   ]
  },
  {
   "cell_type": "code",
   "execution_count": 25,
   "metadata": {
    "collapsed": false
   },
   "outputs": [
    {
     "data": {
      "text/plain": [
       "Index([u'state', u'date_installed', u'incentive_prog_names', u'type',\n",
       "       u'size_kw', u'appraised', u'zipcode', u'install_type', u'installer',\n",
       "       u'cost_per_watt', u'cost', u'lbnl_tts_version_year', u'lbnl_tts',\n",
       "       u'city', u'utility_clean', u'tech_1', u'model1_clean', u'county',\n",
       "       u'annual_PV_prod', u'annual_insolation', u'rebate', u'sales_tax_cost',\n",
       "       u'tilt1', u'tracking_type', u'azimuth1', u'manuf2_clean',\n",
       "       u'manuf3_clean', u'manuf1_clean', u'inv_man_clean',\n",
       "       u'reported_annual_energy_prod', u'incentivetype', u'year_app_implied',\n",
       "       u'year', u'npv_fit_real', u'application_implied', u'npv_pbi_real',\n",
       "       u'other_incentive', u'appraised_cluster', u'inflation',\n",
       "       u'other_incentive_real', u'zip_available', u'cust_city', u'pbi',\n",
       "       u'pbi_real', u'pbi_length', u'application', u'fit_length', u'fit_rate',\n",
       "       u'fit_payment', u'_3rdparty_implied', u'utility',\n",
       "       u'install_price_real_w', u'install_price', u'installer_clean',\n",
       "       u'manuf1_', u'inverter_reported', u'rebate_real', u'model1',\n",
       "       u'_3rdparty', u'inv_model_reported', u'microinv_solarhub', u'bipv_3',\n",
       "       u'bipv_2', u'bipv_1', u'sales_tax_rate', u'sales_tax_cost_real',\n",
       "       u'bipv_all', u'thinfilm_all', u'china', u'sys_sizeac', u'pbi_rate',\n",
       "       u'new_constr', u'effic_1', u'cust_county', u'tracking',\n",
       "       u'inv_model_clean', u'mod_cost_real', u'inv_cost_real',\n",
       "       u'bos_powerclerk_real', u'permitting_real', u'3rdparty',\n",
       "       u'Filters=maxdate=1472688000&maxsize=30600&mindate=946684800&minsize=10',\n",
       "       u'Unnamed: 82'],\n",
       "      dtype='object')"
      ]
     },
     "execution_count": 25,
     "metadata": {},
     "output_type": "execute_result"
    }
   ],
   "source": [
    "data.columns"
   ]
  },
  {
   "cell_type": "markdown",
   "metadata": {},
   "source": [
    "uir seems like a value that should be in the type column not size_kw. Lets just take a closer look"
   ]
  },
  {
   "cell_type": "code",
   "execution_count": 20,
   "metadata": {
    "collapsed": false
   },
   "outputs": [
    {
     "name": "stdout",
     "output_type": "stream",
     "text": [
      "The number of rows with this problem: 215\n"
     ]
    }
   ],
   "source": [
    "print \"The number of rows with this problem:\", len(data[data['size_kw']== 'uir'])"
   ]
  },
  {
   "cell_type": "code",
   "execution_count": 21,
   "metadata": {
    "collapsed": false
   },
   "outputs": [
    {
     "data": {
      "text/html": [
       "<div>\n",
       "<table border=\"1\" class=\"dataframe\">\n",
       "  <thead>\n",
       "    <tr style=\"text-align: right;\">\n",
       "      <th></th>\n",
       "      <th>state</th>\n",
       "      <th>date_installed</th>\n",
       "      <th>incentive_prog_names</th>\n",
       "      <th>type</th>\n",
       "      <th>size_kw</th>\n",
       "      <th>appraised</th>\n",
       "      <th>zipcode</th>\n",
       "      <th>install_type</th>\n",
       "      <th>installer</th>\n",
       "      <th>cost_per_watt</th>\n",
       "      <th>...</th>\n",
       "      <th>cust_county</th>\n",
       "      <th>tracking</th>\n",
       "      <th>inv_model_clean</th>\n",
       "      <th>mod_cost_real</th>\n",
       "      <th>inv_cost_real</th>\n",
       "      <th>bos_powerclerk_real</th>\n",
       "      <th>permitting_real</th>\n",
       "      <th>3rdparty</th>\n",
       "      <th>Filters=maxdate=1472688000&amp;maxsize=30600&amp;mindate=946684800&amp;minsize=10</th>\n",
       "      <th>Unnamed: 82</th>\n",
       "    </tr>\n",
       "  </thead>\n",
       "  <tbody>\n",
       "    <tr>\n",
       "      <th>12311</th>\n",
       "      <td>NM</td>\n",
       "      <td>2009-01-06</td>\n",
       "      <td>new mexico energy</td>\n",
       "      <td>minerals and natural resources department</td>\n",
       "      <td>uir</td>\n",
       "      <td>13.5</td>\n",
       "      <td>NaN</td>\n",
       "      <td>87531</td>\n",
       "      <td>NaN</td>\n",
       "      <td>Paradise Power</td>\n",
       "      <td>...</td>\n",
       "      <td>NaN</td>\n",
       "      <td>NaN</td>\n",
       "      <td>NaN</td>\n",
       "      <td>NaN</td>\n",
       "      <td>NaN</td>\n",
       "      <td>NaN</td>\n",
       "      <td>NaN</td>\n",
       "      <td>NaN</td>\n",
       "      <td>NaN</td>\n",
       "      <td>NaN</td>\n",
       "    </tr>\n",
       "    <tr>\n",
       "      <th>13447</th>\n",
       "      <td>NM</td>\n",
       "      <td>2009-03-31</td>\n",
       "      <td>new mexico energy</td>\n",
       "      <td>minerals and natural resources department</td>\n",
       "      <td>uir</td>\n",
       "      <td>10.125</td>\n",
       "      <td>NaN</td>\n",
       "      <td>87501</td>\n",
       "      <td>NaN</td>\n",
       "      <td>Positive Energy</td>\n",
       "      <td>...</td>\n",
       "      <td>NaN</td>\n",
       "      <td>NaN</td>\n",
       "      <td>NaN</td>\n",
       "      <td>NaN</td>\n",
       "      <td>NaN</td>\n",
       "      <td>NaN</td>\n",
       "      <td>NaN</td>\n",
       "      <td>NaN</td>\n",
       "      <td>NaN</td>\n",
       "      <td>NaN</td>\n",
       "    </tr>\n",
       "    <tr>\n",
       "      <th>13501</th>\n",
       "      <td>NM</td>\n",
       "      <td>2009-04-03</td>\n",
       "      <td>new mexico energy</td>\n",
       "      <td>minerals and natural resources department</td>\n",
       "      <td>uir</td>\n",
       "      <td>10.8</td>\n",
       "      <td>NaN</td>\n",
       "      <td>87501</td>\n",
       "      <td>NaN</td>\n",
       "      <td>Positive Energy</td>\n",
       "      <td>...</td>\n",
       "      <td>NaN</td>\n",
       "      <td>NaN</td>\n",
       "      <td>NaN</td>\n",
       "      <td>NaN</td>\n",
       "      <td>NaN</td>\n",
       "      <td>NaN</td>\n",
       "      <td>NaN</td>\n",
       "      <td>NaN</td>\n",
       "      <td>NaN</td>\n",
       "      <td>NaN</td>\n",
       "    </tr>\n",
       "    <tr>\n",
       "      <th>13978</th>\n",
       "      <td>NM</td>\n",
       "      <td>2009-05-14</td>\n",
       "      <td>new mexico energy</td>\n",
       "      <td>minerals and natural resources department</td>\n",
       "      <td>uir</td>\n",
       "      <td>30.625</td>\n",
       "      <td>NaN</td>\n",
       "      <td>87734</td>\n",
       "      <td>NaN</td>\n",
       "      <td>Energy Concepts</td>\n",
       "      <td>...</td>\n",
       "      <td>NaN</td>\n",
       "      <td>NaN</td>\n",
       "      <td>NaN</td>\n",
       "      <td>NaN</td>\n",
       "      <td>NaN</td>\n",
       "      <td>NaN</td>\n",
       "      <td>NaN</td>\n",
       "      <td>NaN</td>\n",
       "      <td>NaN</td>\n",
       "      <td>NaN</td>\n",
       "    </tr>\n",
       "    <tr>\n",
       "      <th>14695</th>\n",
       "      <td>NM</td>\n",
       "      <td>2009-06-30</td>\n",
       "      <td>new mexico energy</td>\n",
       "      <td>minerals and natural resources department</td>\n",
       "      <td>uir</td>\n",
       "      <td>16.2</td>\n",
       "      <td>NaN</td>\n",
       "      <td>87505</td>\n",
       "      <td>NaN</td>\n",
       "      <td>Positive Energy</td>\n",
       "      <td>...</td>\n",
       "      <td>NaN</td>\n",
       "      <td>NaN</td>\n",
       "      <td>NaN</td>\n",
       "      <td>NaN</td>\n",
       "      <td>NaN</td>\n",
       "      <td>NaN</td>\n",
       "      <td>NaN</td>\n",
       "      <td>NaN</td>\n",
       "      <td>NaN</td>\n",
       "      <td>NaN</td>\n",
       "    </tr>\n",
       "    <tr>\n",
       "      <th>15069</th>\n",
       "      <td>NM</td>\n",
       "      <td>2009-07-24</td>\n",
       "      <td>new mexico energy</td>\n",
       "      <td>minerals and natural resources department</td>\n",
       "      <td>uir</td>\n",
       "      <td>15.488</td>\n",
       "      <td>NaN</td>\n",
       "      <td>87111</td>\n",
       "      <td>NaN</td>\n",
       "      <td>Self</td>\n",
       "      <td>...</td>\n",
       "      <td>NaN</td>\n",
       "      <td>NaN</td>\n",
       "      <td>NaN</td>\n",
       "      <td>NaN</td>\n",
       "      <td>NaN</td>\n",
       "      <td>NaN</td>\n",
       "      <td>NaN</td>\n",
       "      <td>NaN</td>\n",
       "      <td>NaN</td>\n",
       "      <td>NaN</td>\n",
       "    </tr>\n",
       "    <tr>\n",
       "      <th>16892</th>\n",
       "      <td>NM</td>\n",
       "      <td>2009-11-01</td>\n",
       "      <td>new mexico energy</td>\n",
       "      <td>minerals and natural resources department</td>\n",
       "      <td>uir</td>\n",
       "      <td>11.648</td>\n",
       "      <td>NaN</td>\n",
       "      <td>87509</td>\n",
       "      <td>NaN</td>\n",
       "      <td>Two J Builders</td>\n",
       "      <td>...</td>\n",
       "      <td>NaN</td>\n",
       "      <td>NaN</td>\n",
       "      <td>NaN</td>\n",
       "      <td>NaN</td>\n",
       "      <td>NaN</td>\n",
       "      <td>NaN</td>\n",
       "      <td>NaN</td>\n",
       "      <td>NaN</td>\n",
       "      <td>NaN</td>\n",
       "      <td>NaN</td>\n",
       "    </tr>\n",
       "    <tr>\n",
       "      <th>17244</th>\n",
       "      <td>DC</td>\n",
       "      <td>2009-11-18</td>\n",
       "      <td>washington</td>\n",
       "      <td>dc department of energy &amp; environment</td>\n",
       "      <td>uir</td>\n",
       "      <td>27</td>\n",
       "      <td>NaN</td>\n",
       "      <td>20016</td>\n",
       "      <td>educational</td>\n",
       "      <td>NaN</td>\n",
       "      <td>...</td>\n",
       "      <td>NaN</td>\n",
       "      <td>NaN</td>\n",
       "      <td>NaN</td>\n",
       "      <td>NaN</td>\n",
       "      <td>NaN</td>\n",
       "      <td>NaN</td>\n",
       "      <td>NaN</td>\n",
       "      <td>NaN</td>\n",
       "      <td>NaN</td>\n",
       "      <td>NaN</td>\n",
       "    </tr>\n",
       "    <tr>\n",
       "      <th>17250</th>\n",
       "      <td>NM</td>\n",
       "      <td>2009-11-18</td>\n",
       "      <td>new mexico energy</td>\n",
       "      <td>minerals and natural resources department</td>\n",
       "      <td>uir</td>\n",
       "      <td>10.66</td>\n",
       "      <td>NaN</td>\n",
       "      <td>87110</td>\n",
       "      <td>residential</td>\n",
       "      <td>Ve Group</td>\n",
       "      <td>...</td>\n",
       "      <td>NaN</td>\n",
       "      <td>NaN</td>\n",
       "      <td>NaN</td>\n",
       "      <td>NaN</td>\n",
       "      <td>NaN</td>\n",
       "      <td>NaN</td>\n",
       "      <td>NaN</td>\n",
       "      <td>NaN</td>\n",
       "      <td>NaN</td>\n",
       "      <td>NaN</td>\n",
       "    </tr>\n",
       "    <tr>\n",
       "      <th>18181</th>\n",
       "      <td>NM</td>\n",
       "      <td>2009-12-23</td>\n",
       "      <td>new mexico energy</td>\n",
       "      <td>minerals and natural resources department</td>\n",
       "      <td>uir</td>\n",
       "      <td>10.35</td>\n",
       "      <td>NaN</td>\n",
       "      <td>87144</td>\n",
       "      <td>NaN</td>\n",
       "      <td>Consolidated Solar Technologies</td>\n",
       "      <td>...</td>\n",
       "      <td>NaN</td>\n",
       "      <td>NaN</td>\n",
       "      <td>NaN</td>\n",
       "      <td>NaN</td>\n",
       "      <td>NaN</td>\n",
       "      <td>NaN</td>\n",
       "      <td>NaN</td>\n",
       "      <td>NaN</td>\n",
       "      <td>NaN</td>\n",
       "      <td>NaN</td>\n",
       "    </tr>\n",
       "  </tbody>\n",
       "</table>\n",
       "<p>10 rows × 83 columns</p>\n",
       "</div>"
      ],
      "text/plain": [
       "      state date_installed incentive_prog_names  \\\n",
       "12311    NM     2009-01-06    new mexico energy   \n",
       "13447    NM     2009-03-31    new mexico energy   \n",
       "13501    NM     2009-04-03    new mexico energy   \n",
       "13978    NM     2009-05-14    new mexico energy   \n",
       "14695    NM     2009-06-30    new mexico energy   \n",
       "15069    NM     2009-07-24    new mexico energy   \n",
       "16892    NM     2009-11-01    new mexico energy   \n",
       "17244    DC     2009-11-18           washington   \n",
       "17250    NM     2009-11-18    new mexico energy   \n",
       "18181    NM     2009-12-23    new mexico energy   \n",
       "\n",
       "                                             type size_kw appraised zipcode  \\\n",
       "12311   minerals and natural resources department     uir      13.5     NaN   \n",
       "13447   minerals and natural resources department     uir    10.125     NaN   \n",
       "13501   minerals and natural resources department     uir      10.8     NaN   \n",
       "13978   minerals and natural resources department     uir    30.625     NaN   \n",
       "14695   minerals and natural resources department     uir      16.2     NaN   \n",
       "15069   minerals and natural resources department     uir    15.488     NaN   \n",
       "16892   minerals and natural resources department     uir    11.648     NaN   \n",
       "17244       dc department of energy & environment     uir        27     NaN   \n",
       "17250   minerals and natural resources department     uir     10.66     NaN   \n",
       "18181   minerals and natural resources department     uir     10.35     NaN   \n",
       "\n",
       "      install_type    installer                    cost_per_watt     ...      \\\n",
       "12311        87531          NaN                   Paradise Power     ...       \n",
       "13447        87501          NaN                  Positive Energy     ...       \n",
       "13501        87501          NaN                  Positive Energy     ...       \n",
       "13978        87734          NaN                  Energy Concepts     ...       \n",
       "14695        87505          NaN                  Positive Energy     ...       \n",
       "15069        87111          NaN                             Self     ...       \n",
       "16892        87509          NaN                   Two J Builders     ...       \n",
       "17244        20016  educational                              NaN     ...       \n",
       "17250        87110  residential                         Ve Group     ...       \n",
       "18181        87144          NaN  Consolidated Solar Technologies     ...       \n",
       "\n",
       "      cust_county tracking inv_model_clean mod_cost_real inv_cost_real  \\\n",
       "12311         NaN      NaN             NaN           NaN           NaN   \n",
       "13447         NaN      NaN             NaN           NaN           NaN   \n",
       "13501         NaN      NaN             NaN           NaN           NaN   \n",
       "13978         NaN      NaN             NaN           NaN           NaN   \n",
       "14695         NaN      NaN             NaN           NaN           NaN   \n",
       "15069         NaN      NaN             NaN           NaN           NaN   \n",
       "16892         NaN      NaN             NaN           NaN           NaN   \n",
       "17244         NaN      NaN             NaN           NaN           NaN   \n",
       "17250         NaN      NaN             NaN           NaN           NaN   \n",
       "18181         NaN      NaN             NaN           NaN           NaN   \n",
       "\n",
       "      bos_powerclerk_real permitting_real 3rdparty  \\\n",
       "12311                 NaN             NaN      NaN   \n",
       "13447                 NaN             NaN      NaN   \n",
       "13501                 NaN             NaN      NaN   \n",
       "13978                 NaN             NaN      NaN   \n",
       "14695                 NaN             NaN      NaN   \n",
       "15069                 NaN             NaN      NaN   \n",
       "16892                 NaN             NaN      NaN   \n",
       "17244                 NaN             NaN      NaN   \n",
       "17250                 NaN             NaN      NaN   \n",
       "18181                 NaN             NaN      NaN   \n",
       "\n",
       "      Filters=maxdate=1472688000&maxsize=30600&mindate=946684800&minsize=10  \\\n",
       "12311                                                NaN                      \n",
       "13447                                                NaN                      \n",
       "13501                                                NaN                      \n",
       "13978                                                NaN                      \n",
       "14695                                                NaN                      \n",
       "15069                                                NaN                      \n",
       "16892                                                NaN                      \n",
       "17244                                                NaN                      \n",
       "17250                                                NaN                      \n",
       "18181                                                NaN                      \n",
       "\n",
       "      Unnamed: 82  \n",
       "12311         NaN  \n",
       "13447         NaN  \n",
       "13501         NaN  \n",
       "13978         NaN  \n",
       "14695         NaN  \n",
       "15069         NaN  \n",
       "16892         NaN  \n",
       "17244         NaN  \n",
       "17250         NaN  \n",
       "18181         NaN  \n",
       "\n",
       "[10 rows x 83 columns]"
      ]
     },
     "execution_count": 21,
     "metadata": {},
     "output_type": "execute_result"
    }
   ],
   "source": [
    "data[data['size_kw']== 'uir'].head(10)"
   ]
  },
  {
   "cell_type": "markdown",
   "metadata": {},
   "source": [
    "it seems for this set of data, values from incentive programs names spills into values for type causeing a domino effect with the other columns. This is a potentially big issue. \n",
    "I will do a lot of slicing to solve this"
   ]
  },
  {
   "cell_type": "markdown",
   "metadata": {},
   "source": [
    "1. First I'll divide the dataset into two, those with size_kw=='uir' call this test and those that are normal(call it data1)\n",
    "2. the values from type should be part of the values for incentive_prog_names"
   ]
  },
  {
   "cell_type": "code",
   "execution_count": 22,
   "metadata": {
    "collapsed": true
   },
   "outputs": [],
   "source": [
    "data1=data[data.size_kw !='uir']"
   ]
  },
  {
   "cell_type": "code",
   "execution_count": 23,
   "metadata": {
    "collapsed": false
   },
   "outputs": [],
   "source": [
    "test=data[data['size_kw']=='uir']"
   ]
  },
  {
   "cell_type": "markdown",
   "metadata": {},
   "source": [
    "add together the rows that need to be added"
   ]
  },
  {
   "cell_type": "code",
   "execution_count": 24,
   "metadata": {
    "collapsed": false
   },
   "outputs": [
    {
     "name": "stderr",
     "output_type": "stream",
     "text": [
      "/anaconda/lib/python2.7/site-packages/ipykernel/__main__.py:1: SettingWithCopyWarning: \n",
      "A value is trying to be set on a copy of a slice from a DataFrame.\n",
      "Try using .loc[row_indexer,col_indexer] = value instead\n",
      "\n",
      "See the caveats in the documentation: http://pandas.pydata.org/pandas-docs/stable/indexing.html#indexing-view-versus-copy\n",
      "  if __name__ == '__main__':\n"
     ]
    }
   ],
   "source": [
    "test['incentive_prog_names']=test['incentive_prog_names'] + test['type']"
   ]
  },
  {
   "cell_type": "markdown",
   "metadata": {},
   "source": [
    "Split the data into columns 3 to 8"
   ]
  },
  {
   "cell_type": "code",
   "execution_count": 26,
   "metadata": {
    "collapsed": false
   },
   "outputs": [],
   "source": [
    "cols=test.columns[3:82] "
   ]
  },
  {
   "cell_type": "code",
   "execution_count": 27,
   "metadata": {
    "collapsed": true
   },
   "outputs": [],
   "source": [
    "new_test=test.ix[:,4:] #select data from column 4 till the end"
   ]
  },
  {
   "cell_type": "code",
   "execution_count": 28,
   "metadata": {
    "collapsed": false
   },
   "outputs": [],
   "source": [
    "new_test.columns=cols"
   ]
  },
  {
   "cell_type": "code",
   "execution_count": 29,
   "metadata": {
    "collapsed": false
   },
   "outputs": [
    {
     "name": "stdout",
     "output_type": "stream",
     "text": [
      "(65284, 83)\n",
      "(65499, 83)\n",
      "(215, 79)\n",
      "(79,)\n"
     ]
    }
   ],
   "source": [
    "print data1.shape\n",
    "print data.shape\n",
    "print new_test.shape\n",
    "print cols.shape"
   ]
  },
  {
   "cell_type": "code",
   "execution_count": 30,
   "metadata": {
    "collapsed": false
   },
   "outputs": [],
   "source": [
    "df=pd.concat([data1,new_test])"
   ]
  },
  {
   "cell_type": "code",
   "execution_count": 31,
   "metadata": {
    "collapsed": false
   },
   "outputs": [],
   "source": [
    "data=df[list(data.columns)]"
   ]
  },
  {
   "cell_type": "code",
   "execution_count": 32,
   "metadata": {
    "collapsed": false
   },
   "outputs": [
    {
     "data": {
      "text/html": [
       "<div>\n",
       "<table border=\"1\" class=\"dataframe\">\n",
       "  <thead>\n",
       "    <tr style=\"text-align: right;\">\n",
       "      <th></th>\n",
       "      <th>state</th>\n",
       "      <th>date_installed</th>\n",
       "      <th>incentive_prog_names</th>\n",
       "      <th>type</th>\n",
       "      <th>size_kw</th>\n",
       "      <th>appraised</th>\n",
       "      <th>zipcode</th>\n",
       "      <th>install_type</th>\n",
       "      <th>installer</th>\n",
       "      <th>cost_per_watt</th>\n",
       "      <th>...</th>\n",
       "      <th>cust_county</th>\n",
       "      <th>tracking</th>\n",
       "      <th>inv_model_clean</th>\n",
       "      <th>mod_cost_real</th>\n",
       "      <th>inv_cost_real</th>\n",
       "      <th>bos_powerclerk_real</th>\n",
       "      <th>permitting_real</th>\n",
       "      <th>3rdparty</th>\n",
       "      <th>Filters=maxdate=1472688000&amp;maxsize=30600&amp;mindate=946684800&amp;minsize=10</th>\n",
       "      <th>Unnamed: 82</th>\n",
       "    </tr>\n",
       "  </thead>\n",
       "  <tbody>\n",
       "    <tr>\n",
       "      <th>0</th>\n",
       "      <td>AZ</td>\n",
       "      <td>2000-01-01</td>\n",
       "      <td>unisource energy services</td>\n",
       "      <td>uir</td>\n",
       "      <td>11.772</td>\n",
       "      <td>NaN</td>\n",
       "      <td>86406</td>\n",
       "      <td>residential</td>\n",
       "      <td>Epcon Solar</td>\n",
       "      <td>4.5999830105</td>\n",
       "      <td>...</td>\n",
       "      <td>NaN</td>\n",
       "      <td>NaN</td>\n",
       "      <td>NaN</td>\n",
       "      <td>NaN</td>\n",
       "      <td>NaN</td>\n",
       "      <td>NaN</td>\n",
       "      <td>NaN</td>\n",
       "      <td>NaN</td>\n",
       "      <td>NaN</td>\n",
       "      <td>NaN</td>\n",
       "    </tr>\n",
       "    <tr>\n",
       "      <th>1</th>\n",
       "      <td>NV</td>\n",
       "      <td>2000-01-01</td>\n",
       "      <td>NaN</td>\n",
       "      <td>uir</td>\n",
       "      <td>11.84</td>\n",
       "      <td>NaN</td>\n",
       "      <td>89010</td>\n",
       "      <td>residential</td>\n",
       "      <td>NaN</td>\n",
       "      <td>21.11</td>\n",
       "      <td>...</td>\n",
       "      <td>NaN</td>\n",
       "      <td>NaN</td>\n",
       "      <td>NaN</td>\n",
       "      <td>NaN</td>\n",
       "      <td>NaN</td>\n",
       "      <td>NaN</td>\n",
       "      <td>NaN</td>\n",
       "      <td>NaN</td>\n",
       "      <td>NaN</td>\n",
       "      <td>NaN</td>\n",
       "    </tr>\n",
       "    <tr>\n",
       "      <th>2</th>\n",
       "      <td>TN</td>\n",
       "      <td>2000-01-01</td>\n",
       "      <td>NaN</td>\n",
       "      <td>uir</td>\n",
       "      <td>15</td>\n",
       "      <td>NaN</td>\n",
       "      <td>37923</td>\n",
       "      <td>NaN</td>\n",
       "      <td>NaN</td>\n",
       "      <td>8</td>\n",
       "      <td>...</td>\n",
       "      <td>NaN</td>\n",
       "      <td>NaN</td>\n",
       "      <td>NaN</td>\n",
       "      <td>NaN</td>\n",
       "      <td>NaN</td>\n",
       "      <td>NaN</td>\n",
       "      <td>NaN</td>\n",
       "      <td>NaN</td>\n",
       "      <td>NaN</td>\n",
       "      <td>NaN</td>\n",
       "    </tr>\n",
       "    <tr>\n",
       "      <th>3</th>\n",
       "      <td>TN</td>\n",
       "      <td>2000-01-01</td>\n",
       "      <td>NaN</td>\n",
       "      <td>uir</td>\n",
       "      <td>30</td>\n",
       "      <td>NaN</td>\n",
       "      <td>37201</td>\n",
       "      <td>NaN</td>\n",
       "      <td>NaN</td>\n",
       "      <td>8</td>\n",
       "      <td>...</td>\n",
       "      <td>NaN</td>\n",
       "      <td>NaN</td>\n",
       "      <td>NaN</td>\n",
       "      <td>NaN</td>\n",
       "      <td>NaN</td>\n",
       "      <td>NaN</td>\n",
       "      <td>NaN</td>\n",
       "      <td>NaN</td>\n",
       "      <td>NaN</td>\n",
       "      <td>NaN</td>\n",
       "    </tr>\n",
       "    <tr>\n",
       "      <th>4</th>\n",
       "      <td>TN</td>\n",
       "      <td>2000-01-03</td>\n",
       "      <td>NaN</td>\n",
       "      <td>uir</td>\n",
       "      <td>10</td>\n",
       "      <td>NaN</td>\n",
       "      <td>37821</td>\n",
       "      <td>NaN</td>\n",
       "      <td>NaN</td>\n",
       "      <td>8</td>\n",
       "      <td>...</td>\n",
       "      <td>NaN</td>\n",
       "      <td>NaN</td>\n",
       "      <td>NaN</td>\n",
       "      <td>NaN</td>\n",
       "      <td>NaN</td>\n",
       "      <td>NaN</td>\n",
       "      <td>NaN</td>\n",
       "      <td>NaN</td>\n",
       "      <td>NaN</td>\n",
       "      <td>NaN</td>\n",
       "    </tr>\n",
       "  </tbody>\n",
       "</table>\n",
       "<p>5 rows × 83 columns</p>\n",
       "</div>"
      ],
      "text/plain": [
       "  state date_installed       incentive_prog_names type size_kw appraised  \\\n",
       "0    AZ     2000-01-01  unisource energy services  uir  11.772       NaN   \n",
       "1    NV     2000-01-01                        NaN  uir   11.84       NaN   \n",
       "2    TN     2000-01-01                        NaN  uir      15       NaN   \n",
       "3    TN     2000-01-01                        NaN  uir      30       NaN   \n",
       "4    TN     2000-01-03                        NaN  uir      10       NaN   \n",
       "\n",
       "  zipcode install_type    installer cost_per_watt     ...     cust_county  \\\n",
       "0   86406  residential  Epcon Solar  4.5999830105     ...             NaN   \n",
       "1   89010  residential          NaN         21.11     ...             NaN   \n",
       "2   37923          NaN          NaN             8     ...             NaN   \n",
       "3   37201          NaN          NaN             8     ...             NaN   \n",
       "4   37821          NaN          NaN             8     ...             NaN   \n",
       "\n",
       "  tracking inv_model_clean mod_cost_real inv_cost_real bos_powerclerk_real  \\\n",
       "0      NaN             NaN           NaN           NaN                 NaN   \n",
       "1      NaN             NaN           NaN           NaN                 NaN   \n",
       "2      NaN             NaN           NaN           NaN                 NaN   \n",
       "3      NaN             NaN           NaN           NaN                 NaN   \n",
       "4      NaN             NaN           NaN           NaN                 NaN   \n",
       "\n",
       "  permitting_real 3rdparty  \\\n",
       "0             NaN      NaN   \n",
       "1             NaN      NaN   \n",
       "2             NaN      NaN   \n",
       "3             NaN      NaN   \n",
       "4             NaN      NaN   \n",
       "\n",
       "  Filters=maxdate=1472688000&maxsize=30600&mindate=946684800&minsize=10  \\\n",
       "0                                                NaN                      \n",
       "1                                                NaN                      \n",
       "2                                                NaN                      \n",
       "3                                                NaN                      \n",
       "4                                                NaN                      \n",
       "\n",
       "  Unnamed: 82  \n",
       "0         NaN  \n",
       "1         NaN  \n",
       "2         NaN  \n",
       "3         NaN  \n",
       "4         NaN  \n",
       "\n",
       "[5 rows x 83 columns]"
      ]
     },
     "execution_count": 32,
     "metadata": {},
     "output_type": "execute_result"
    }
   ],
   "source": [
    "data.head()"
   ]
  },
  {
   "cell_type": "code",
   "execution_count": 39,
   "metadata": {
    "collapsed": false
   },
   "outputs": [],
   "source": [
    "data['size_kw']=str_float(data,'size_kw')"
   ]
  },
  {
   "cell_type": "code",
   "execution_count": 40,
   "metadata": {
    "collapsed": false
   },
   "outputs": [
    {
     "data": {
      "text/plain": [
       "count    65499.000000\n",
       "mean       100.928089\n",
       "std        575.682565\n",
       "min         10.000000\n",
       "25%         11.340000\n",
       "50%         15.640000\n",
       "75%         42.512500\n",
       "max      30000.000000\n",
       "Name: size_kw, dtype: float64"
      ]
     },
     "execution_count": 40,
     "metadata": {},
     "output_type": "execute_result"
    }
   ],
   "source": [
    "data['size_kw'].describe()"
   ]
  },
  {
   "cell_type": "code",
   "execution_count": 42,
   "metadata": {
    "collapsed": false
   },
   "outputs": [
    {
     "data": {
      "text/plain": [
       "<matplotlib.text.Text at 0x1142b5ed0>"
      ]
     },
     "execution_count": 42,
     "metadata": {},
     "output_type": "execute_result"
    },
    {
     "data": {
      "image/png": "[encoded data removed]",
      "text/plain": [
       "<matplotlib.figure.Figure at 0x10a9c2750>"
      ]
     },
     "metadata": {},
     "output_type": "display_data"
    }
   ],
   "source": [
    "sns.kdeplot(data.size_kw)\n",
    "plt.title('Density plot of size(kw)')"
   ]
  },
  {
   "cell_type": "markdown",
   "metadata": {},
   "source": [
    "We can see that there's a skew in the distribution, heavy tail to the right"
   ]
  },
  {
   "cell_type": "code",
   "execution_count": 43,
   "metadata": {
    "collapsed": false
   },
   "outputs": [
    {
     "data": {
      "text/plain": [
       "set()"
      ]
     },
     "execution_count": 43,
     "metadata": {},
     "output_type": "execute_result"
    }
   ],
   "source": [
    "isnot_float(data,'zipcode')"
   ]
  },
  {
   "cell_type": "code",
   "execution_count": 45,
   "metadata": {
    "collapsed": false
   },
   "outputs": [],
   "source": [
    "data['zipcode']=(str_float(data,'zipcode'))\n",
    "data['zipcode']=data['zipcode'].astype(int)"
   ]
  },
  {
   "cell_type": "code",
   "execution_count": 46,
   "metadata": {
    "collapsed": false
   },
   "outputs": [
    {
     "data": {
      "text/html": [
       "<div>\n",
       "<table border=\"1\" class=\"dataframe\">\n",
       "  <thead>\n",
       "    <tr style=\"text-align: right;\">\n",
       "      <th></th>\n",
       "      <th>install_type</th>\n",
       "      <th>installer</th>\n",
       "      <th>cost_per_watt</th>\n",
       "      <th>cost</th>\n",
       "      <th>lbnl_tts_version_year</th>\n",
       "      <th>lbnl_tts</th>\n",
       "      <th>city</th>\n",
       "    </tr>\n",
       "  </thead>\n",
       "  <tbody>\n",
       "    <tr>\n",
       "      <th>0</th>\n",
       "      <td>residential</td>\n",
       "      <td>Epcon Solar</td>\n",
       "      <td>4.5999830105</td>\n",
       "      <td>54,151</td>\n",
       "      <td>2016</td>\n",
       "      <td>TRUE</td>\n",
       "      <td>LAKE HAVASU CITY</td>\n",
       "    </tr>\n",
       "    <tr>\n",
       "      <th>1</th>\n",
       "      <td>residential</td>\n",
       "      <td>NaN</td>\n",
       "      <td>21.11</td>\n",
       "      <td>250000</td>\n",
       "      <td>NaN</td>\n",
       "      <td>NaN</td>\n",
       "      <td>NaN</td>\n",
       "    </tr>\n",
       "    <tr>\n",
       "      <th>2</th>\n",
       "      <td>NaN</td>\n",
       "      <td>NaN</td>\n",
       "      <td>8</td>\n",
       "      <td>120000</td>\n",
       "      <td>NaN</td>\n",
       "      <td>NaN</td>\n",
       "      <td>NaN</td>\n",
       "    </tr>\n",
       "    <tr>\n",
       "      <th>3</th>\n",
       "      <td>NaN</td>\n",
       "      <td>NaN</td>\n",
       "      <td>8</td>\n",
       "      <td>240000</td>\n",
       "      <td>NaN</td>\n",
       "      <td>NaN</td>\n",
       "      <td>NaN</td>\n",
       "    </tr>\n",
       "    <tr>\n",
       "      <th>4</th>\n",
       "      <td>NaN</td>\n",
       "      <td>NaN</td>\n",
       "      <td>8</td>\n",
       "      <td>80000</td>\n",
       "      <td>NaN</td>\n",
       "      <td>NaN</td>\n",
       "      <td>NaN</td>\n",
       "    </tr>\n",
       "    <tr>\n",
       "      <th>5</th>\n",
       "      <td>NaN</td>\n",
       "      <td>NaN</td>\n",
       "      <td>7.4932699045</td>\n",
       "      <td>81,278</td>\n",
       "      <td>2016</td>\n",
       "      <td>TRUE</td>\n",
       "      <td>Moss Beach</td>\n",
       "    </tr>\n",
       "  </tbody>\n",
       "</table>\n",
       "</div>"
      ],
      "text/plain": [
       "  install_type    installer cost_per_watt    cost lbnl_tts_version_year  \\\n",
       "0  residential  Epcon Solar  4.5999830105  54,151                  2016   \n",
       "1  residential          NaN         21.11  250000                   NaN   \n",
       "2          NaN          NaN             8  120000                   NaN   \n",
       "3          NaN          NaN             8  240000                   NaN   \n",
       "4          NaN          NaN             8   80000                   NaN   \n",
       "5          NaN          NaN  7.4932699045  81,278                  2016   \n",
       "\n",
       "  lbnl_tts              city  \n",
       "0     TRUE  LAKE HAVASU CITY  \n",
       "1      NaN               NaN  \n",
       "2      NaN               NaN  \n",
       "3      NaN               NaN  \n",
       "4      NaN               NaN  \n",
       "5     TRUE        Moss Beach  "
      ]
     },
     "execution_count": 46,
     "metadata": {},
     "output_type": "execute_result"
    }
   ],
   "source": [
    "data.ix[:5,7:14]"
   ]
  },
  {
   "cell_type": "code",
   "execution_count": 47,
   "metadata": {
    "collapsed": true
   },
   "outputs": [],
   "source": [
    "data['install_type']=data['install_type'].str.lower()"
   ]
  },
  {
   "cell_type": "code",
   "execution_count": 48,
   "metadata": {
    "collapsed": false
   },
   "outputs": [
    {
     "data": {
      "text/plain": [
       "array([nan, 'agricultural', 'agriculture', 'commercial',\n",
       "       'commercial - builders', 'commercial - other',\n",
       "       'commercial - small business', 'commerical', 'customer',\n",
       "       'education', 'educational', \"gov't/np\", 'government',\n",
       "       'institutional', 'municipal', 'nonprofit', 'nonresidential',\n",
       "       'public', 'residential', 'small business', 'unknown', 'utility'], dtype=object)"
      ]
     },
     "execution_count": 48,
     "metadata": {},
     "output_type": "execute_result"
    }
   ],
   "source": [
    "np.sort(data['install_type'].unique())"
   ]
  },
  {
   "cell_type": "markdown",
   "metadata": {},
   "source": [
    "There are obviously some duplications that can easily be solved"
   ]
  },
  {
   "cell_type": "code",
   "execution_count": 49,
   "metadata": {
    "collapsed": false
   },
   "outputs": [],
   "source": [
    "dd=[]\n",
    "for row in data['install_type']:\n",
    "    if row=='agricultural':\n",
    "        dd.append('agriculture')\n",
    "    elif row=='commerical':\n",
    "        dd.append('commercial')\n",
    "    elif row=='educational':\n",
    "        dd.append('education')\n",
    "    elif row=='small business':\n",
    "        dd.append('commercial - small business')\n",
    "    elif pd.isnull(row):\n",
    "        dd.append('unknown')\n",
    "    else:\n",
    "        dd.append(row)\n",
    "    "
   ]
  },
  {
   "cell_type": "code",
   "execution_count": 50,
   "metadata": {
    "collapsed": false
   },
   "outputs": [],
   "source": [
    "data['install_type']=dd"
   ]
  },
  {
   "cell_type": "code",
   "execution_count": 53,
   "metadata": {
    "collapsed": false
   },
   "outputs": [
    {
     "data": {
      "text/plain": [
       "<matplotlib.text.Text at 0x1162b6d10>"
      ]
     },
     "execution_count": 53,
     "metadata": {},
     "output_type": "execute_result"
    },
    {
     "data": {
      "image/png": "[encoded data removed]",
      "text/plain": [
       "<matplotlib.figure.Figure at 0x1160974d0>"
      ]
     },
     "metadata": {},
     "output_type": "display_data"
    }
   ],
   "source": [
    "data['install_type'].value_counts().plot(kind='barh')\n",
    "plt.ylabel('installation type')\n",
    "plt.title('Number of installations by installation type')"
   ]
  },
  {
   "cell_type": "code",
   "execution_count": 54,
   "metadata": {
    "collapsed": false
   },
   "outputs": [],
   "source": [
    "data['installer']=data['installer'].str.lower()"
   ]
  },
  {
   "cell_type": "code",
   "execution_count": 55,
   "metadata": {
    "collapsed": false
   },
   "outputs": [
    {
     "data": {
      "text/plain": [
       "{' Inc',\n",
       " ' Inc.',\n",
       " ' Inc.;Old Goat Enterprises',\n",
       " ' LLC',\n",
       " ' LLC - David Fairbank (and Bates Electric)',\n",
       " ' LLC T/A JERSEY SOLAR ELECT',\n",
       " ' inc.'}"
      ]
     },
     "execution_count": 55,
     "metadata": {},
     "output_type": "execute_result"
    }
   ],
   "source": [
    "isnot_float(data,'cost_per_watt')"
   ]
  },
  {
   "cell_type": "markdown",
   "metadata": {},
   "source": [
    "We have a few values that shouldn't be in the column. Lets see why"
   ]
  },
  {
   "cell_type": "code",
   "execution_count": 56,
   "metadata": {
    "collapsed": false
   },
   "outputs": [],
   "source": [
    "data['cost_per_watt']=data['cost_per_watt'].str.lower().str.strip()"
   ]
  },
  {
   "cell_type": "code",
   "execution_count": 57,
   "metadata": {
    "collapsed": false
   },
   "outputs": [],
   "source": [
    "test2=data[(data['cost_per_watt'].str.contains('inc')==True) | (data['cost_per_watt'].str.contains('llc')==True)]"
   ]
  },
  {
   "cell_type": "code",
   "execution_count": 58,
   "metadata": {
    "collapsed": false
   },
   "outputs": [
    {
     "data": {
      "text/plain": [
       "(62, 83)"
      ]
     },
     "execution_count": 58,
     "metadata": {},
     "output_type": "execute_result"
    }
   ],
   "source": [
    "test2.shape"
   ]
  },
  {
   "cell_type": "code",
   "execution_count": 66,
   "metadata": {
    "collapsed": false
   },
   "outputs": [
    {
     "data": {
      "text/html": [
       "<div>\n",
       "<table border=\"1\" class=\"dataframe\">\n",
       "  <thead>\n",
       "    <tr style=\"text-align: right;\">\n",
       "      <th></th>\n",
       "      <th>install_type</th>\n",
       "      <th>installer</th>\n",
       "      <th>cost_per_watt</th>\n",
       "      <th>cost</th>\n",
       "      <th>lbnl_tts_version_year</th>\n",
       "      <th>lbnl_tts</th>\n",
       "      <th>city</th>\n",
       "    </tr>\n",
       "  </thead>\n",
       "  <tbody>\n",
       "    <tr>\n",
       "      <th>1334</th>\n",
       "      <td>residential</td>\n",
       "      <td>jersey solar</td>\n",
       "      <td>llc t/a jersey solar elect</td>\n",
       "      <td>8.0260416667</td>\n",
       "      <td>154,100</td>\n",
       "      <td>2016</td>\n",
       "      <td>TRUE</td>\n",
       "    </tr>\n",
       "    <tr>\n",
       "      <th>3008</th>\n",
       "      <td>commercial</td>\n",
       "      <td>jersey solar</td>\n",
       "      <td>llc t/a jersey solar elect</td>\n",
       "      <td>7.2</td>\n",
       "      <td>95,760</td>\n",
       "      <td>2016</td>\n",
       "      <td>TRUE</td>\n",
       "    </tr>\n",
       "    <tr>\n",
       "      <th>4335</th>\n",
       "      <td>residential</td>\n",
       "      <td>jersey solar</td>\n",
       "      <td>llc t/a jersey solar elect</td>\n",
       "      <td>8.0729166667</td>\n",
       "      <td>155,000</td>\n",
       "      <td>2016</td>\n",
       "      <td>TRUE</td>\n",
       "    </tr>\n",
       "    <tr>\n",
       "      <th>4996</th>\n",
       "      <td>commercial</td>\n",
       "      <td>jersey solar</td>\n",
       "      <td>llc t/a jersey solar elect</td>\n",
       "      <td>7</td>\n",
       "      <td>720,300</td>\n",
       "      <td>2016</td>\n",
       "      <td>TRUE</td>\n",
       "    </tr>\n",
       "    <tr>\n",
       "      <th>7882</th>\n",
       "      <td>residential</td>\n",
       "      <td>jersey solar</td>\n",
       "      <td>llc t/a jersey solar elect</td>\n",
       "      <td>7.8765555002</td>\n",
       "      <td>79,120</td>\n",
       "      <td>2016</td>\n",
       "      <td>TRUE</td>\n",
       "    </tr>\n",
       "  </tbody>\n",
       "</table>\n",
       "</div>"
      ],
      "text/plain": [
       "     install_type     installer               cost_per_watt          cost  \\\n",
       "1334  residential  jersey solar  llc t/a jersey solar elect  8.0260416667   \n",
       "3008   commercial  jersey solar  llc t/a jersey solar elect           7.2   \n",
       "4335  residential  jersey solar  llc t/a jersey solar elect  8.0729166667   \n",
       "4996   commercial  jersey solar  llc t/a jersey solar elect             7   \n",
       "7882  residential  jersey solar  llc t/a jersey solar elect  7.8765555002   \n",
       "\n",
       "     lbnl_tts_version_year lbnl_tts  city  \n",
       "1334               154,100     2016  TRUE  \n",
       "3008                95,760     2016  TRUE  \n",
       "4335               155,000     2016  TRUE  \n",
       "4996               720,300     2016  TRUE  \n",
       "7882                79,120     2016  TRUE  "
      ]
     },
     "execution_count": 66,
     "metadata": {},
     "output_type": "execute_result"
    }
   ],
   "source": [
    "test2.ix[:,7:14].head()"
   ]
  },
  {
   "cell_type": "markdown",
   "metadata": {},
   "source": [
    "It seems like we have the same problem we had earlier with data not being in the right place"
   ]
  },
  {
   "cell_type": "code",
   "execution_count": 72,
   "metadata": {
    "collapsed": true
   },
   "outputs": [],
   "source": [
    "cols2=test2.columns[9:82]\n",
    "new_test=test2.ix[:,10:]\n",
    "new_test.columns=cols2"
   ]
  },
  {
   "cell_type": "code",
   "execution_count": 73,
   "metadata": {
    "collapsed": true
   },
   "outputs": [],
   "source": [
    "data2=data[(data['cost_per_watt'].str.contains('inc')==False) & (data['cost_per_watt'].str.contains('llc')==False) | (pd.isnull(data.cost_per_watt))]"
   ]
  },
  {
   "cell_type": "code",
   "execution_count": 76,
   "metadata": {
    "collapsed": false
   },
   "outputs": [],
   "source": [
    "df=pd.concat([data2,new_test])\n",
    "data=df[data.columns]"
   ]
  },
  {
   "cell_type": "code",
   "execution_count": 79,
   "metadata": {
    "collapsed": false
   },
   "outputs": [
    {
     "data": {
      "text/plain": [
       "set()"
      ]
     },
     "execution_count": 79,
     "metadata": {},
     "output_type": "execute_result"
    }
   ],
   "source": [
    "isnot_float(data,'cost_per_watt')"
   ]
  },
  {
   "cell_type": "code",
   "execution_count": 80,
   "metadata": {
    "collapsed": true
   },
   "outputs": [],
   "source": [
    "data['cost_per_watt']=str_float(data,'cost_per_watt')"
   ]
  },
  {
   "cell_type": "code",
   "execution_count": 83,
   "metadata": {
    "collapsed": false
   },
   "outputs": [
    {
     "name": "stderr",
     "output_type": "stream",
     "text": [
      "//anaconda/lib/python2.7/site-packages/numpy/lib/function_base.py:3403: RuntimeWarning: Invalid value encountered in median\n",
      "  RuntimeWarning)\n"
     ]
    },
    {
     "data": {
      "text/plain": [
       "count    54931.000000\n",
       "mean         6.326263\n",
       "std          1.873974\n",
       "min          0.763807\n",
       "25%               NaN\n",
       "50%               NaN\n",
       "75%               NaN\n",
       "max         30.000000\n",
       "Name: cost_per_watt, dtype: float64"
      ]
     },
     "execution_count": 83,
     "metadata": {},
     "output_type": "execute_result"
    }
   ],
   "source": [
    "data['cost_per_watt'].describe()"
   ]
  },
  {
   "cell_type": "code",
   "execution_count": 85,
   "metadata": {
    "collapsed": false
   },
   "outputs": [
    {
     "data": {
      "text/plain": [
       "<matplotlib.axes._subplots.AxesSubplot at 0x122b8b790>"
      ]
     },
     "execution_count": 85,
     "metadata": {},
     "output_type": "execute_result"
    },
    {
     "data": {
      "image/png": "[encoded data removed]",
      "text/plain": [
       "<matplotlib.figure.Figure at 0x115483c50>"
      ]
     },
     "metadata": {},
     "output_type": "display_data"
    }
   ],
   "source": [
    "data['cost_per_watt'].hist(bins=100)"
   ]
  },
  {
   "cell_type": "code",
   "execution_count": 81,
   "metadata": {
    "collapsed": false
   },
   "outputs": [
    {
     "data": {
      "text/plain": [
       "{'n/a'}"
      ]
     },
     "execution_count": 81,
     "metadata": {},
     "output_type": "execute_result"
    }
   ],
   "source": [
    "isnot_float(data,'cost')"
   ]
  },
  {
   "cell_type": "code",
   "execution_count": 82,
   "metadata": {
    "collapsed": true
   },
   "outputs": [],
   "source": [
    "data['cost']=str_float(data,'cost')"
   ]
  },
  {
   "cell_type": "code",
   "execution_count": 86,
   "metadata": {
    "collapsed": false
   },
   "outputs": [
    {
     "data": {
      "text/plain": [
       "count    5.494300e+04\n",
       "mean     4.006457e+05\n",
       "std      1.566098e+06\n",
       "min      0.000000e+00\n",
       "25%               NaN\n",
       "50%               NaN\n",
       "75%               NaN\n",
       "max      1.522000e+08\n",
       "Name: cost, dtype: float64"
      ]
     },
     "execution_count": 86,
     "metadata": {},
     "output_type": "execute_result"
    }
   ],
   "source": [
    "data['cost'].describe()"
   ]
  },
  {
   "cell_type": "code",
   "execution_count": 90,
   "metadata": {
    "collapsed": false
   },
   "outputs": [
    {
     "data": {
      "text/plain": [
       "<matplotlib.axes._subplots.AxesSubplot at 0x127bc0350>"
      ]
     },
     "execution_count": 90,
     "metadata": {},
     "output_type": "execute_result"
    },
    {
     "data": {
      "image/png": "[encoded data removed]",
      "text/plain": [
       "<matplotlib.figure.Figure at 0x127bacf10>"
      ]
     },
     "metadata": {},
     "output_type": "display_data"
    }
   ],
   "source": [
    "sns.kdeplot(data.cost)"
   ]
  },
  {
   "cell_type": "code",
   "execution_count": 91,
   "metadata": {
    "collapsed": false
   },
   "outputs": [
    {
     "data": {
      "text/plain": [
       "set()"
      ]
     },
     "execution_count": 91,
     "metadata": {},
     "output_type": "execute_result"
    }
   ],
   "source": [
    "isnot_float(data,'lbnl_tts_version_year')"
   ]
  },
  {
   "cell_type": "code",
   "execution_count": 92,
   "metadata": {
    "collapsed": true
   },
   "outputs": [],
   "source": [
    "data['lbnl_tts_version_year']=str_float(data,'lbnl_tts_version_year')"
   ]
  },
  {
   "cell_type": "code",
   "execution_count": 97,
   "metadata": {
    "collapsed": false
   },
   "outputs": [
    {
     "name": "stdout",
     "output_type": "stream",
     "text": [
      "2016.0    36353\n",
      "Name: lbnl_tts_version_year, dtype: int64\n"
     ]
    },
    {
     "data": {
      "text/plain": [
       "TRUE    36353\n",
       "Name: lbnl_tts, dtype: int64"
      ]
     },
     "execution_count": 97,
     "metadata": {},
     "output_type": "execute_result"
    }
   ],
   "source": [
    "print data['lbnl_tts_version_year'].value_counts()\n",
    "data['lbnl_tts'].value_counts()"
   ]
  },
  {
   "cell_type": "markdown",
   "metadata": {},
   "source": [
    "The usefullness of these columns not so clear. I should drop one or both?"
   ]
  },
  {
   "cell_type": "code",
   "execution_count": 99,
   "metadata": {
    "collapsed": false
   },
   "outputs": [],
   "source": [
    "del data['lbnl_tts']"
   ]
  },
  {
   "cell_type": "code",
   "execution_count": 102,
   "metadata": {
    "collapsed": false
   },
   "outputs": [
    {
     "data": {
      "text/plain": [
       "<matplotlib.axes._subplots.AxesSubplot at 0x127ea7fd0>"
      ]
     },
     "execution_count": 102,
     "metadata": {},
     "output_type": "execute_result"
    },
    {
     "data": {
      "image/png": "[encoded data removed]",
      "text/plain": [
       "<matplotlib.figure.Figure at 0x127e83090>"
      ]
     },
     "metadata": {},
     "output_type": "display_data"
    }
   ],
   "source": [
    "data['city']=data['city'].str.lower()\n",
    "data['city'].value_counts().head().plot(kind='barh')"
   ]
  },
  {
   "cell_type": "code",
   "execution_count": 114,
   "metadata": {
    "collapsed": false
   },
   "outputs": [
    {
     "data": {
      "text/html": [
       "<div>\n",
       "<table border=\"1\" class=\"dataframe\">\n",
       "  <thead>\n",
       "    <tr style=\"text-align: right;\">\n",
       "      <th></th>\n",
       "      <th>utility_clean</th>\n",
       "      <th>tech_1</th>\n",
       "      <th>model1_clean</th>\n",
       "      <th>county</th>\n",
       "      <th>annual_PV_prod</th>\n",
       "      <th>annual_insolation</th>\n",
       "      <th>rebate</th>\n",
       "    </tr>\n",
       "  </thead>\n",
       "  <tbody>\n",
       "    <tr>\n",
       "      <th>0</th>\n",
       "      <td>UniSource Energy Services</td>\n",
       "      <td>NaN</td>\n",
       "      <td>NaN</td>\n",
       "      <td>Mohave</td>\n",
       "      <td>NaN</td>\n",
       "      <td>NaN</td>\n",
       "      <td>1,177.2</td>\n",
       "    </tr>\n",
       "    <tr>\n",
       "      <th>1</th>\n",
       "      <td>NaN</td>\n",
       "      <td>NaN</td>\n",
       "      <td>NaN</td>\n",
       "      <td>Esmeralda</td>\n",
       "      <td>NaN</td>\n",
       "      <td>NaN</td>\n",
       "      <td>NaN</td>\n",
       "    </tr>\n",
       "    <tr>\n",
       "      <th>2</th>\n",
       "      <td>NaN</td>\n",
       "      <td>NaN</td>\n",
       "      <td>NaN</td>\n",
       "      <td>Knox</td>\n",
       "      <td>NaN</td>\n",
       "      <td>NaN</td>\n",
       "      <td>NaN</td>\n",
       "    </tr>\n",
       "    <tr>\n",
       "      <th>3</th>\n",
       "      <td>NaN</td>\n",
       "      <td>NaN</td>\n",
       "      <td>NaN</td>\n",
       "      <td>Davidson</td>\n",
       "      <td>NaN</td>\n",
       "      <td>NaN</td>\n",
       "      <td>NaN</td>\n",
       "    </tr>\n",
       "    <tr>\n",
       "      <th>4</th>\n",
       "      <td>NaN</td>\n",
       "      <td>NaN</td>\n",
       "      <td>NaN</td>\n",
       "      <td>Cocke</td>\n",
       "      <td>NaN</td>\n",
       "      <td>NaN</td>\n",
       "      <td>NaN</td>\n",
       "    </tr>\n",
       "    <tr>\n",
       "      <th>5</th>\n",
       "      <td>Pacific Gas &amp; Electric Company</td>\n",
       "      <td>NaN</td>\n",
       "      <td>NaN</td>\n",
       "      <td>San Mateo</td>\n",
       "      <td>16,774.2849</td>\n",
       "      <td>5.374998569</td>\n",
       "      <td>27,117</td>\n",
       "    </tr>\n",
       "  </tbody>\n",
       "</table>\n",
       "</div>"
      ],
      "text/plain": [
       "                    utility_clean tech_1 model1_clean     county  \\\n",
       "0       UniSource Energy Services    NaN          NaN     Mohave   \n",
       "1                             NaN    NaN          NaN  Esmeralda   \n",
       "2                             NaN    NaN          NaN       Knox   \n",
       "3                             NaN    NaN          NaN   Davidson   \n",
       "4                             NaN    NaN          NaN      Cocke   \n",
       "5  Pacific Gas & Electric Company    NaN          NaN  San Mateo   \n",
       "\n",
       "  annual_PV_prod annual_insolation   rebate  \n",
       "0            NaN               NaN  1,177.2  \n",
       "1            NaN               NaN      NaN  \n",
       "2            NaN               NaN      NaN  \n",
       "3            NaN               NaN      NaN  \n",
       "4            NaN               NaN      NaN  \n",
       "5    16,774.2849       5.374998569   27,117  "
      ]
     },
     "execution_count": 114,
     "metadata": {},
     "output_type": "execute_result"
    }
   ],
   "source": [
    "data.ix[:5,13:20]"
   ]
  },
  {
   "cell_type": "code",
   "execution_count": 115,
   "metadata": {
    "collapsed": true
   },
   "outputs": [],
   "source": [
    "data['utility_clean']=data['utility_clean'].str.lower()"
   ]
  },
  {
   "cell_type": "code",
   "execution_count": 118,
   "metadata": {
    "collapsed": false
   },
   "outputs": [],
   "source": [
    "data['tech_1']=data.tech_1.str.lower()"
   ]
  },
  {
   "cell_type": "code",
   "execution_count": 120,
   "metadata": {
    "collapsed": false
   },
   "outputs": [],
   "source": [
    "data['model1_clean']=data.model1_clean.str.lower()\n",
    "data['county']=data['county'].str.lower()"
   ]
  },
  {
   "cell_type": "code",
   "execution_count": 121,
   "metadata": {
    "collapsed": false
   },
   "outputs": [
    {
     "data": {
      "text/plain": [
       "{'Coos',\n",
       " 'Douglas',\n",
       " 'Gadsden',\n",
       " 'Linn',\n",
       " 'Mora',\n",
       " 'Sangamon',\n",
       " 'Washoe',\n",
       " 'Worcester'}"
      ]
     },
     "execution_count": 121,
     "metadata": {},
     "output_type": "execute_result"
    }
   ],
   "source": [
    "isnot_float(data,'annual_PV_prod')"
   ]
  },
  {
   "cell_type": "code",
   "execution_count": 34,
   "metadata": {
    "collapsed": false
   },
   "outputs": [],
   "source": [
    "def is_string(data,text):\n",
    "    dd=[]\n",
    "    for row in data[text]:\n",
    "        dd.append(type(row))\n",
    "    return dd"
   ]
  }
 ],
 "metadata": {
  "kernelspec": {
   "display_name": "Python 2",
   "language": "python",
   "name": "python2"
  },
  "language_info": {
   "codemirror_mode": {
    "name": "ipython",
    "version": 2
   },
   "file_extension": ".py",
   "mimetype": "text/x-python",
   "name": "python",
   "nbconvert_exporter": "python",
   "pygments_lexer": "ipython2",
   "version": "2.7.12"
  }
 },
 "nbformat": 4,
 "nbformat_minor": 0
}
